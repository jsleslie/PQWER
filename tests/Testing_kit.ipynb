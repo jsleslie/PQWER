{
 "cells": [
  {
   "cell_type": "markdown",
   "metadata": {},
   "source": [
    "# Test development for PQWER"
   ]
  },
  {
   "cell_type": "code",
   "execution_count": 1,
   "metadata": {},
   "outputs": [],
   "source": [
    "import inspect\n",
    "import os\n",
    "import sys\n",
    "\n",
    "current_dir = os.path.dirname(\n",
    "os.path.abspath(inspect.getfile(inspect.currentframe())))\n",
    "parent_dir = os.path.dirname(current_dir)\n",
    "sys.path.append(parent_dir)\n",
    "from src.utils import *"
   ]
  },
  {
   "cell_type": "code",
   "execution_count": 2,
   "metadata": {},
   "outputs": [],
   "source": [
    "data_path = \"../data/dragontail-11.1.1/11.1.1/data/en_US/champion/\""
   ]
  },
  {
   "cell_type": "markdown",
   "metadata": {},
   "source": [
    "## Testing get_ability_icons"
   ]
  },
  {
   "cell_type": "code",
   "execution_count": 3,
   "metadata": {},
   "outputs": [
    {
     "data": {
      "text/plain": [
       "{'Passive': 'data/dragontail-11.1.1/11.1.1/img/passive/Malphite_GraniteShield.png',\n",
       " 'Q': 'data/dragontail-11.1.1/11.1.1/img/spell/SeismicShard.png',\n",
       " 'W': 'data/dragontail-11.1.1/11.1.1/img/spell/Obduracy.png',\n",
       " 'E': 'data/dragontail-11.1.1/11.1.1/img/spell/Landslide.png',\n",
       " 'R': 'data/dragontail-11.1.1/11.1.1/img/spell/UFSlash.png'}"
      ]
     },
     "execution_count": 3,
     "metadata": {},
     "output_type": "execute_result"
    }
   ],
   "source": [
    "get_ability_icons(\"Malphite\", data_path)"
   ]
  },
  {
   "cell_type": "code",
   "execution_count": 4,
   "metadata": {},
   "outputs": [],
   "source": [
    "# Check that the keys are 'Passive', 'Q','W','E' and 'R\n",
    "values = list(get_ability_icons(\"Malphite\", data_path).values())\n",
    "file_extensions = set(list(map(lambda x: x[-3:], values)))"
   ]
  },
  {
   "cell_type": "code",
   "execution_count": 5,
   "metadata": {},
   "outputs": [
    {
     "name": "stdout",
     "output_type": "stream",
     "text": [
      "Testing get_ability_icons function...\n",
      "All get_ability_icons tests passed!\n"
     ]
    }
   ],
   "source": [
    "print(\"Testing get_ability_icons function...\")\n",
    "assert set(get_ability_icons(\"Malphite\", data_path).keys()) \\\n",
    "    == {'Passive', 'Q', 'W', 'E', 'R'}, \"All ability keys must be returned\"\n",
    "\n",
    "assert type(get_ability_icons(\"Malphite\", data_path)) == dict,\\\n",
    "    \"Function must return a dictionary\"\n",
    "\n",
    "values = list(get_ability_icons(\"Malphite\", data_path).values())\n",
    "file_extensions = set(list(map(lambda x: x[-3:], values)))\n",
    "assert len(file_extensions) == 1, \"Function returns one type of file extension path\"\n",
    "assert file_extensions.pop() == 'png', \"All dictionary values are png file paths\"\n",
    "print(\"All get_ability_icons tests passed!\")"
   ]
  },
  {
   "cell_type": "markdown",
   "metadata": {},
   "source": [
    "## Testing get_cooldowns"
   ]
  },
  {
   "cell_type": "code",
   "execution_count": 6,
   "metadata": {},
   "outputs": [
    {
     "data": {
      "text/plain": [
       "{'Q': 'Seismic Shard\\n\\n[8, 8, 8, 8, 8]',\n",
       " 'W': 'Thunderclap\\n\\n[12, 12, 12, 12, 12]',\n",
       " 'E': 'Ground Slam\\n\\n[7, 7, 7, 7, 7]',\n",
       " 'R': 'Unstoppable Force\\n\\n[130, 105, 80]'}"
      ]
     },
     "execution_count": 6,
     "metadata": {},
     "output_type": "execute_result"
    }
   ],
   "source": [
    "get_cooldowns(\"Malphite\", data_path)"
   ]
  },
  {
   "cell_type": "code",
   "execution_count": 7,
   "metadata": {},
   "outputs": [
    {
     "name": "stdout",
     "output_type": "stream",
     "text": [
      "Testing get_cooldowns function...\n",
      "All get_cooldowns tests passed!\n"
     ]
    }
   ],
   "source": [
    "print(\"Testing get_cooldowns function...\")\n",
    "assert set(get_cooldowns(\"Malphite\", data_path).keys()) \\\n",
    "    == {'Q', 'W', 'E', 'R'}, \"All ability keys must be returned\"\n",
    "\n",
    "assert type(get_cooldowns(\"Malphite\", data_path)) == dict,\\\n",
    "    \"Function must return a dictionary\"\n",
    "\n",
    "assert all(type(value) == str for value in get_cooldowns(\"Malphite\", data_path).values()),\\\n",
    "    \"Confirm that all dictionary values are a string\"\n",
    "\n",
    "print(\"All get_cooldowns tests passed!\")"
   ]
  },
  {
   "cell_type": "markdown",
   "metadata": {},
   "source": [
    "## Testing get_PQWER"
   ]
  },
  {
   "cell_type": "code",
   "execution_count": 8,
   "metadata": {},
   "outputs": [
    {
     "data": {
      "text/plain": [
       "{'passive': 'Granite Shield\\n\\nMalphite is shielded by a layer of rock which absorbs damage up to 10% of his maximum Health. If Malphite has not been hit for a few seconds, this effect recharges.',\n",
       " 'Q': 'Seismic Shard\\n\\nMalphite sends a shard of the earth through the ground at his foe, dealing damage upon impact and stealing Movement Speed for 3 seconds.',\n",
       " 'W': 'Thunderclap\\n\\nMalphite attacks with such force that it creates a sonic boom. For the next few seconds, his attacks create aftershocks in front of him.',\n",
       " 'E': 'Ground Slam\\n\\nMalphite slams the ground, sending out a shockwave that deals magic damage based on his Armor and reduces the Attack Speed of enemies for a short duration.',\n",
       " 'R': 'Unstoppable Force\\n\\nMalphite launches himself to a location at high speed, damaging enemies and knocking them into the air.'}"
      ]
     },
     "execution_count": 8,
     "metadata": {},
     "output_type": "execute_result"
    }
   ],
   "source": [
    "get_PQWER(\"Malphite\", data_path)"
   ]
  },
  {
   "cell_type": "code",
   "execution_count": 9,
   "metadata": {},
   "outputs": [
    {
     "name": "stdout",
     "output_type": "stream",
     "text": [
      "Testing get_PQWER function...\n",
      "All get_PQWER tests passed!\n"
     ]
    }
   ],
   "source": [
    "print(\"Testing get_PQWER function...\")\n",
    "assert set(get_PQWER(\"Malphite\", data_path).keys()) \\\n",
    "    == {'passive','Q', 'W', 'E', 'R'}, \"All ability keys must be returned\"\n",
    "\n",
    "assert type(get_PQWER(\"Malphite\", data_path)) == dict,\\\n",
    "    \"Function must return a dictionary\"\n",
    "\n",
    "assert all(type(value) == str for value in get_PQWER(\"Malphite\", data_path).values()),\\\n",
    "    \"Confirm that all dictionary values are a string\"\n",
    "\n",
    "print(\"All get_PQWER tests passed!\")"
   ]
  },
  {
   "cell_type": "markdown",
   "metadata": {},
   "source": [
    "## Testing AutocompleteEntry class methods"
   ]
  },
  {
   "cell_type": "code",
   "execution_count": 14,
   "metadata": {},
   "outputs": [
    {
     "ename": "IndexError",
     "evalue": "tuple index out of range",
     "output_type": "error",
     "traceback": [
      "\u001b[0;31m---------------------------------------------------------------------------\u001b[0m",
      "\u001b[0;31mIndexError\u001b[0m                                Traceback (most recent call last)",
      "\u001b[0;32m<ipython-input-14-0da86fb30294>\u001b[0m in \u001b[0;36m<module>\u001b[0;34m\u001b[0m\n\u001b[0;32m----> 1\u001b[0;31m \u001b[0ma\u001b[0m \u001b[0;34m=\u001b[0m \u001b[0mAutocompleteEntry\u001b[0m\u001b[0;34m(\u001b[0m\u001b[0;34m[\u001b[0m\u001b[0;34m'a'\u001b[0m\u001b[0;34m,\u001b[0m\u001b[0;34m'b'\u001b[0m\u001b[0;34m,\u001b[0m \u001b[0;34m'c'\u001b[0m\u001b[0;34m]\u001b[0m\u001b[0;34m)\u001b[0m\u001b[0;34m\u001b[0m\u001b[0;34m\u001b[0m\u001b[0m\n\u001b[0m",
      "\u001b[0;32m~/Documents/MDS/Personal_projects/PQWER/src/utils.py\u001b[0m in \u001b[0;36m__init__\u001b[0;34m(self, autocompleteList, *args, **kwargs)\u001b[0m\n\u001b[1;32m     10\u001b[0m \u001b[0;34m\u001b[0m\u001b[0m\n\u001b[1;32m     11\u001b[0m         \u001b[0mself\u001b[0m\u001b[0;34m.\u001b[0m\u001b[0mlistboxLength\u001b[0m \u001b[0;34m=\u001b[0m \u001b[0;36m0\u001b[0m\u001b[0;34m\u001b[0m\u001b[0;34m\u001b[0m\u001b[0m\n\u001b[0;32m---> 12\u001b[0;31m         \u001b[0mself\u001b[0m\u001b[0;34m.\u001b[0m\u001b[0mparent\u001b[0m \u001b[0;34m=\u001b[0m \u001b[0margs\u001b[0m\u001b[0;34m[\u001b[0m\u001b[0;36m0\u001b[0m\u001b[0;34m]\u001b[0m\u001b[0;34m\u001b[0m\u001b[0;34m\u001b[0m\u001b[0m\n\u001b[0m\u001b[1;32m     13\u001b[0m \u001b[0;34m\u001b[0m\u001b[0m\n\u001b[1;32m     14\u001b[0m         \u001b[0;31m# Custom matches function\u001b[0m\u001b[0;34m\u001b[0m\u001b[0;34m\u001b[0m\u001b[0;34m\u001b[0m\u001b[0m\n",
      "\u001b[0;31mIndexError\u001b[0m: tuple index out of range"
     ]
    }
   ],
   "source": [
    "a = AutocompleteEntry(['a','b', 'c'])"
   ]
  },
  {
   "cell_type": "code",
   "execution_count": null,
   "metadata": {},
   "outputs": [],
   "source": []
  },
  {
   "cell_type": "code",
   "execution_count": null,
   "metadata": {},
   "outputs": [],
   "source": []
  },
  {
   "cell_type": "code",
   "execution_count": null,
   "metadata": {},
   "outputs": [],
   "source": []
  }
 ],
 "metadata": {
  "kernelspec": {
   "display_name": "Python 3",
   "language": "python",
   "name": "python3"
  },
  "language_info": {
   "codemirror_mode": {
    "name": "ipython",
    "version": 3
   },
   "file_extension": ".py",
   "mimetype": "text/x-python",
   "name": "python",
   "nbconvert_exporter": "python",
   "pygments_lexer": "ipython3",
   "version": "3.7.6"
  }
 },
 "nbformat": 4,
 "nbformat_minor": 4
}
